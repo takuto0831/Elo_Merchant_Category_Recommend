{
 "cells": [
  {
   "cell_type": "markdown",
   "metadata": {},
   "source": [
    "# module"
   ]
  },
  {
   "cell_type": "code",
   "execution_count": 7,
   "metadata": {},
   "outputs": [],
   "source": [
    "import sys, os\n",
    "sys.path.append('/Users/takuto/Desktop/Elo_kaggle/py/models/')\n",
    "import numpy as np # linear algebra\n",
    "import pandas as pd # data processing\n",
    "import feather # fast reading data\n",
    "from datetime import datetime\n",
    "from Regressor import Ridge_Regressor, Lasso_Regressor, Bagging_Regressor\n",
    "from sklearn.metrics import mean_squared_error"
   ]
  },
  {
   "cell_type": "markdown",
   "metadata": {},
   "source": [
    "# function"
   ]
  },
  {
   "cell_type": "code",
   "execution_count": 9,
   "metadata": {},
   "outputs": [],
   "source": [
    "def read_data(train_name,test_name,features_name):\n",
    "  #Loading Train and Test Data\n",
    "  Base = \"/Users/takuto/Desktop/Elo_kaggle/input/processed/\"\n",
    "  train = feather.read_dataframe(Base + train_name + \".feather\")\n",
    "  test = feather.read_dataframe(Base + test_name + \".feather\")\n",
    "  features = feather.read_dataframe(Base + features_name + \".feather\")\n",
    "  # check data frame\n",
    "  print(\"{} observations and {} features in train set.\".format(train.shape[0],train.shape[1]))\n",
    "  print(\"{} observations and {} features in test set.\".format(test.shape[0],test.shape[1]))\n",
    "  print(\"{} observations and {} features in features set.\".format(features.shape[0],features.shape[1]))\n",
    "  # transform\n",
    "  target = train['target']; del train['target'] # data set\n",
    "  features = features[\"feature\"].tolist() # features list\n",
    "  return train, test, features, target\n",
    "def submit(predict,tech):\n",
    "  # make submit file\n",
    "  submit_file = feather.read_dataframe(\"/Users/takuto/Desktop/Elo_kaggle/input/feather/sample_submission.feather\")\n",
    "  submit_file[\"target\"] = predict\n",
    "  # save for output/(technic name + datetime + .csv)\n",
    "  file_name = '/Users/takuto/Desktop/Elo_kaggle/output/' + tech + datetime.now().strftime(\"%Y%m%d\") + \".csv\"\n",
    "  submit_file.to_csv(file_name, index=False)"
   ]
  },
  {
   "cell_type": "markdown",
   "metadata": {},
   "source": [
    "# Regession execute model"
   ]
  },
  {
   "cell_type": "code",
   "execution_count": null,
   "metadata": {},
   "outputs": [
    {
     "name": "stdout",
     "output_type": "stream",
     "text": [
      "201917 observations and 121 features in train set.\n",
      "123623 observations and 119 features in test set.\n",
      "118 observations and 1 features in features set.\n",
      "fold n°1\n"
     ]
    }
   ],
   "source": [
    "# read file\n",
    "train_name = \"train_20181223\"; test_name = \"test_20181223\"; features_name = \"features_20181223\";\n",
    "train, test, features, target = read_data(train_name,test_name,features_name)\n",
    "# Ridge regression\n",
    "#val_pred_ridge, test_pred_ridge = Ridge_Regressor(train,test,features,target) \n",
    "# Lasso regression\n",
    "#val_pred_lasso, test_pred_lasso = Lasso_Regressor(train,test,features,target) \n",
    "# Ensemble regression (bagging)\n",
    "val_pred_bag, test_pred_bag = Bagging_Regressor(train,test,features,target) "
   ]
  },
  {
   "cell_type": "code",
   "execution_count": null,
   "metadata": {},
   "outputs": [],
   "source": [
    "# print validation RMSE \n",
    "print(\"Ridge regression validation RMSE: %.4f\" % np.sqrt(mean_squared_error(target.values, val_pred_ridge)))\n",
    "print(\"Lasso regression validation RMSE: %.4f\" % np.sqrt(mean_squared_error(target.values, val_pred_lasso)))\n",
    "print(\"Bagging regression validation RMSE: %.4f\" % np.sqrt(mean_squared_error(target.values, val_pred_bag)))  "
   ]
  },
  {
   "cell_type": "code",
   "execution_count": null,
   "metadata": {},
   "outputs": [],
   "source": [
    "# submit file\n",
    "submit(test_pred_ridge,\"Ridge\")\n",
    "submit(test_pred_lasso,\"Lasso\")\n",
    "submit(test_pred_bag,\"Bagging\")"
   ]
  }
 ],
 "metadata": {
  "kernelspec": {
   "display_name": "Python 3",
   "language": "python",
   "name": "python3"
  },
  "language_info": {
   "codemirror_mode": {
    "name": "ipython",
    "version": 3
   },
   "file_extension": ".py",
   "mimetype": "text/x-python",
   "name": "python",
   "nbconvert_exporter": "python",
   "pygments_lexer": "ipython3",
   "version": "3.6.5"
  },
  "toc": {
   "base_numbering": 1,
   "nav_menu": {},
   "number_sections": true,
   "sideBar": true,
   "skip_h1_title": false,
   "title_cell": "Table of Contents",
   "title_sidebar": "Contents",
   "toc_cell": false,
   "toc_position": {},
   "toc_section_display": true,
   "toc_window_display": false
  }
 },
 "nbformat": 4,
 "nbformat_minor": 2
}
