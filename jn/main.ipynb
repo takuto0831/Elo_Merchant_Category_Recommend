{
 "cells": [
  {
   "cell_type": "markdown",
   "metadata": {},
   "source": [
    "# setting"
   ]
  },
  {
   "cell_type": "code",
   "execution_count": 1,
   "metadata": {},
   "outputs": [],
   "source": [
    "import sys, os\n",
    "home_path = os.path.expanduser(\"~\")\n",
    "sys.path.append(home_path + '/Desktop/Elo_kaggle/py/models/')\n",
    "sys.path.append(home_path + '/.pyenv/versions/3.6.5/lib/python3.6/site-packages/xgboost-0.81-py3.6.egg')"
   ]
  },
  {
   "cell_type": "markdown",
   "metadata": {},
   "source": [
    "# module"
   ]
  },
  {
   "cell_type": "code",
   "execution_count": 10,
   "metadata": {},
   "outputs": [],
   "source": [
    "import numpy as np # linear algebra\n",
    "import pandas as pd # data processing\n",
    "import feather # fast reading data\n",
    "from datetime import datetime\n",
    "from sklearn.metrics import mean_squared_error\n",
    "import Regressor\n",
    "import GradientBoosting as gb\n",
    "from sklearn.linear_model import Ridge, Lasso\n",
    "from sklearn.ensemble import BaggingRegressor\n",
    "from sklearn.tree import DecisionTreeRegressor\n",
    "import seaborn as sns\n",
    "import matplotlib.pyplot as plt\n",
    "%matplotlib notebook"
   ]
  },
  {
   "cell_type": "code",
   "execution_count": 4,
   "metadata": {},
   "outputs": [
    {
     "data": {
      "text/plain": [
       "<module 'GradientBoosting' from '/Users/takuto/Desktop/Elo_kaggle/py/models/GradientBoosting.py'>"
      ]
     },
     "execution_count": 4,
     "metadata": {},
     "output_type": "execute_result"
    }
   ],
   "source": [
    "import importlib\n",
    "importlib.reload(Regressor)\n",
    "importlib.reload(GradientBoosting)"
   ]
  },
  {
   "cell_type": "markdown",
   "metadata": {},
   "source": [
    "# function"
   ]
  },
  {
   "cell_type": "code",
   "execution_count": 6,
   "metadata": {},
   "outputs": [],
   "source": [
    "def read_data(train_name,test_name,features_name):\n",
    "    #Loading Train and Test Data\n",
    "    Base = home_path + \"/Desktop/Elo_kaggle/input/processed/\"\n",
    "    train = feather.read_dataframe(Base + train_name + \".feather\")\n",
    "    test = feather.read_dataframe(Base + test_name + \".feather\")\n",
    "    features = feather.read_dataframe(Base + features_name + \".feather\")\n",
    "    # check data frame\n",
    "    print(\"{} observations and {} features in train set.\".format(train.shape[0],train.shape[1]))\n",
    "    print(\"{} observations and {} features in test set.\".format(test.shape[0],test.shape[1]))\n",
    "    print(\"{} observations and {} features in features set.\".format(features.shape[0],features.shape[1]))\n",
    "    # transform\n",
    "    target = train['target']; del train['target'] # data set\n",
    "    features = features[\"feature\"].tolist() # features list\n",
    "    return train, test, features, target\n",
    "def submit(predict,tech):\n",
    "    # make submit file\n",
    "    submit_file = feather.read_dataframe(home_path + \"/Desktop/Elo_kaggle/input/feather/sample_submission.feather\")\n",
    "    submit_file[\"target\"] = predict\n",
    "    # save for output/(technic name + datetime + .csv)\n",
    "    file_name = home_path + '/Desktop/Elo_kaggle/output/' + tech + datetime.now().strftime(\"%Y%m%d\") + \".csv\"\n",
    "    submit_file.to_csv(file_name, index=False)"
   ]
  },
  {
   "cell_type": "markdown",
   "metadata": {},
   "source": [
    "# Regession model"
   ]
  },
  {
   "cell_type": "code",
   "execution_count": 31,
   "metadata": {},
   "outputs": [
    {
     "name": "stdout",
     "output_type": "stream",
     "text": [
      "201917 observations and 121 features in train set.\n",
      "123623 observations and 119 features in test set.\n",
      "118 observations and 1 features in features set.\n",
      "fold n°1\n",
      "fold n°2\n",
      "fold n°3\n",
      "fold n°4\n",
      "fold n°5\n"
     ]
    }
   ],
   "source": [
    "# read file\n",
    "train_name = \"train_20181223\"; test_name = \"test_20181223\"; features_name = \"features_20181223\";\n",
    "train, test, features, target = read_data(train_name,test_name,features_name)\n",
    "# Ridge regression\n",
    "clf = Ridge(alpha=100)\n",
    "val_pred_ridge, test_pred_ridge = Regressor.Regressors(clf,train,test,features,target) \n",
    "# Lasso regression\n",
    "#clf = Lasso(alpha=100)\n",
    "#val_pred_lasso, test_pred_lasso = Regressor.Regressors(clf,train,test,features,target) \n",
    "# Ensemble regression (bagging)\n",
    "#clf = BaggingRegressor(DecisionTreeRegressor(), n_estimators=100, max_samples=0.3)\n",
    "#val_pred_bag, test_pred_bag = Regressor.Regressors(clf,train,test,features,target) "
   ]
  },
  {
   "cell_type": "code",
   "execution_count": 11,
   "metadata": {},
   "outputs": [
    {
     "name": "stdout",
     "output_type": "stream",
     "text": [
      "Bagging regression validation RMSE: 3.7892\n"
     ]
    }
   ],
   "source": [
    "# print validation RMSE \n",
    "#print(\"Ridge regression validation RMSE: %.4f\" % np.sqrt(mean_squared_error(target.values, val_pred_ridge)))\n",
    "#print(\"Lasso regression validation RMSE: %.4f\" % np.sqrt(mean_squared_error(target.values, val_pred_lasso)))\n",
    "print(\"Bagging regression validation RMSE: %.4f\" % np.sqrt(mean_squared_error(target.values, val_pred_bag)))  "
   ]
  },
  {
   "cell_type": "code",
   "execution_count": 46,
   "metadata": {},
   "outputs": [
    {
     "data": {
      "text/plain": [
       "<seaborn.axisgrid.PairGrid at 0x129ce4ac8>"
      ]
     },
     "execution_count": 46,
     "metadata": {},
     "output_type": "execute_result"
    },
    {
     "data": {
      "image/png": "[encoded data removed]",
      "text/plain": [
       "<Figure size 360x360 with 6 Axes>"
      ]
     },
     "metadata": {},
     "output_type": "display_data"
    },
    {
     "data": {
      "image/png": "[encoded data removed]",
      "text/plain": [
       "<Figure size 360x360 with 6 Axes>"
      ]
     },
     "metadata": {},
     "output_type": "display_data"
    }
   ],
   "source": [
    "# plot\n",
    "df = pd.DataFrame({'Ridge':test_pred_ridge, 'Lasso':test_pred_ridge})\n",
    "sns.pairplot(df,diag_kws={'bins': 500}) # all values\n",
    "sns.pairplot(df[df.apply(lambda x: np.abs(x - x.mean()) / x.std() < 3).all(axis=1)],diag_kws={'bins': 500}) # non outliers"
   ]
  },
  {
   "cell_type": "code",
   "execution_count": 12,
   "metadata": {},
   "outputs": [],
   "source": [
    "# submit file\n",
    "#submit(test_pred_ridge,\"Ridge\")\n",
    "#submit(test_pred_lasso,\"Lasso\")\n",
    "submit(test_pred_bag,\"Bagging\")"
   ]
  },
  {
   "cell_type": "markdown",
   "metadata": {},
   "source": [
    "# Gradient Boosting method"
   ]
  },
  {
   "cell_type": "code",
   "execution_count": 7,
   "metadata": {},
   "outputs": [
    {
     "name": "stdout",
     "output_type": "stream",
     "text": [
      "201917 observations and 121 features in train set.\n",
      "123623 observations and 119 features in test set.\n",
      "118 observations and 1 features in features set.\n"
     ]
    }
   ],
   "source": [
    "# read file\n",
    "train_name = \"train_20181223\"; test_name = \"test_20181223\"; features_name = \"features_20181223\";\n",
    "train, test, features, target = read_data(train_name,test_name,features_name)"
   ]
  },
  {
   "cell_type": "markdown",
   "metadata": {},
   "source": [
    "## Light GBM"
   ]
  },
  {
   "cell_type": "code",
   "execution_count": 8,
   "metadata": {},
   "outputs": [],
   "source": [
    "# parameters\n",
    "param_set = {'num_leaves': 31,\n",
    "             'min_data_in_leaf': 30, \n",
    "             'objective':'regression',\n",
    "             'max_depth': -1,\n",
    "             'learning_rate': 0.01,\n",
    "             \"min_child_samples\": 20,\n",
    "             \"boosting\": \"gbdt\",\n",
    "             \"feature_fraction\": 0.9,\n",
    "             \"bagging_freq\": 1,\n",
    "             \"bagging_fraction\": 0.9 ,\n",
    "             \"bagging_seed\": 11,\n",
    "             \"metric\": 'rmse',\n",
    "             \"lambda_l1\": 0.1,\n",
    "             \"verbosity\": -1,\n",
    "             \"nthread\": 4,\n",
    "             \"random_state\": 831}"
   ]
  },
  {
   "cell_type": "code",
   "execution_count": null,
   "metadata": {},
   "outputs": [],
   "source": [
    "val_pred_lgb, test_pred_lgb, model = gb.Regressors(gb.Lightgbm_Regressor,param_set,train,test,features,target,folds=5)"
   ]
  }
 ],
 "metadata": {
  "kernelspec": {
   "display_name": "Python 3",
   "language": "python",
   "name": "python3"
  },
  "language_info": {
   "codemirror_mode": {
    "name": "ipython",
    "version": 3
   },
   "file_extension": ".py",
   "mimetype": "text/x-python",
   "name": "python",
   "nbconvert_exporter": "python",
   "pygments_lexer": "ipython3",
   "version": "3.6.5"
  },
  "toc": {
   "base_numbering": 1,
   "nav_menu": {},
   "number_sections": true,
   "sideBar": true,
   "skip_h1_title": false,
   "title_cell": "Table of Contents",
   "title_sidebar": "Contents",
   "toc_cell": false,
   "toc_position": {},
   "toc_section_display": true,
   "toc_window_display": false
  }
 },
 "nbformat": 4,
 "nbformat_minor": 2
}
